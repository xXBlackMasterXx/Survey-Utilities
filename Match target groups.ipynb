{
 "cells": [
  {
   "cell_type": "code",
   "execution_count": 1,
   "id": "443f4b44-40bb-4deb-9568-1f1d8e7257af",
   "metadata": {},
   "outputs": [],
   "source": [
    "import pandas as pd\n",
    "import numpy as np\n",
    "\n",
    "from utils.utils import read_data\n",
    "from utils.utils import read_distribution\n",
    "from utils.utils import read_purespectrum\n",
    "from utils.utils import read_lucid\n",
    "from utils.utils import format_sheet"
   ]
  },
  {
   "cell_type": "code",
   "execution_count": 2,
   "id": "79fb7f22-2c04-4f00-b81b-18f02ec6c42a",
   "metadata": {},
   "outputs": [
    {
     "name": "stdout",
     "output_type": "stream",
     "text": [
      "Reading from directory: data/\n",
      "Reading file: data/Raw Data 174031 2024-03-12.sav\n",
      "Reading file: data/Raw Data 818418 2024-03-12.sav\n",
      "Reading file: data/Raw Data 665730 2024-03-12.sav\n",
      "Reading file: data/Raw Data 156910 2024-03-12.sav\n",
      "Reading file: data/Raw Data 222861 2024-03-12.sav\n"
     ]
    }
   ],
   "source": [
    "data = read_data()"
   ]
  },
  {
   "cell_type": "code",
   "execution_count": 3,
   "id": "621caae5-52be-41b2-84d9-ca15866bc825",
   "metadata": {},
   "outputs": [
    {
     "name": "stdout",
     "output_type": "stream",
     "text": [
      "Reading from directory: distribution/\n",
      "Reading file: distribution/P4300 Encuesta Satisfacción Latam - January 2024_2024-03-12.csv\n",
      "Reading file: distribution/4300 Encuesta Satisfacción LATAM sept 2023_2024-03-12.csv\n",
      "Reading file: distribution/P4300 Encuesta Satisfacción Latam - January 2024 - Reinvites_2024-03-12.csv\n"
     ]
    }
   ],
   "source": [
    "distribution = read_distribution()"
   ]
  },
  {
   "cell_type": "code",
   "execution_count": 4,
   "id": "eecb8b04-9459-4f18-948d-4ac25f912a21",
   "metadata": {},
   "outputs": [
    {
     "name": "stdout",
     "output_type": "stream",
     "text": [
      "Reading from directory: purespectrum/\n",
      "Reading file: purespectrum/survey_All_0.csv\n"
     ]
    },
    {
     "name": "stderr",
     "output_type": "stream",
     "text": [
      "/home/kenneth/notebooks/Syno/utils/utils.py:149: DtypeWarning: Columns (67,68,69,70,71,72) have mixed types. Specify dtype option on import or set low_memory=False.\n",
      "  df = pd.read_csv(purespectrum_file)\n"
     ]
    }
   ],
   "source": [
    "purespectrum = read_purespectrum()"
   ]
  },
  {
   "cell_type": "code",
   "execution_count": 5,
   "id": "ef60e9f8-05b6-4070-9d8d-4262e661ea50",
   "metadata": {},
   "outputs": [
    {
     "name": "stdout",
     "output_type": "stream",
     "text": [
      "Reading from directory: lucid/\n",
      "Reading file: lucid/DataAnalysis_47719222_4300_Encuesta_Satisfacción_LATAM_sept_2023_-_Unión_Capital_2024-03-12_0908.csv\n",
      "Reading file: lucid/DataAnalysis_47718699_4300_Encuesta_Satisfacción_LATAM_sept_2023_-_Paraguay_2024-03-12_0906.csv\n",
      "Reading file: lucid/DataAnalysis_47719046_4300_Encuesta_Satisfacción_LATAM_sept_2023_-_Uruguay__OCA_2024-03-12_0907.csv\n",
      "Reading file: lucid/DataAnalysis_48750325_4300_Encuesta_Satisfacción_LATAM_sept_2023_-_Paraguay_(2)_2024-03-12_0909.csv\n",
      "Reading file: lucid/DataAnalysis_48751039_4300_Encuesta_Satisfacción_LATAM_sept_2023_-_Unión_Capital_(2)_2024-03-12_0910.csv\n",
      "Reading file: lucid/DataAnalysis_48751003_4300_Encuesta_Satisfacción_LATAM_sept_2023_-_Uruguay__OCA_(2)_2024-03-12_0910.csv\n"
     ]
    }
   ],
   "source": [
    "lucid = read_lucid()"
   ]
  },
  {
   "cell_type": "code",
   "execution_count": 6,
   "id": "7bb50c8f-c51f-4979-94d2-6fe514508844",
   "metadata": {},
   "outputs": [
    {
     "data": {
      "text/plain": [
       "(46248, 277)"
      ]
     },
     "execution_count": 6,
     "metadata": {},
     "output_type": "execute_result"
    }
   ],
   "source": [
    "data.shape"
   ]
  },
  {
   "cell_type": "code",
   "execution_count": 7,
   "id": "b92b05ff-9549-4c05-b858-2a2c1b49ca9b",
   "metadata": {},
   "outputs": [
    {
     "name": "stdout",
     "output_type": "stream",
     "text": [
      "Merging data with Target group names\n",
      "Merged finished\n",
      "Writting to an Excel file\n",
      "This operation will affect 12949440 cells, please be patient\n",
      "File fully exported\n"
     ]
    }
   ],
   "source": [
    "# Merge the target group names with the raw data\n",
    "print(\"Merging data with Target group names\")\n",
    "merged = pd.DataFrame()\n",
    "\n",
    "if len(distribution) > 0:\n",
    "    merged = pd.merge(data, distribution[[\"guid\", \"Target group (Distribution)\"]], how = \"left\", on = \"guid\")\n",
    "if len(purespectrum) > 0:\n",
    "    merged = pd.merge(merged, purespectrum[[\"guid\", \"Project Name (PureSpectrum)\"]], how = \"left\", on = \"guid\")\n",
    "if len(lucid) > 0:\n",
    "    merged = pd.merge(merged, lucid[[\"guid\", \"SurveyName (Lucid)\"]], how = \"left\", on = \"guid\")\n",
    "print(\"Merged finished\")\n",
    "\n",
    "with pd.ExcelWriter(\"Raw data with Target Group Names.xlsx\", engine='xlsxwriter') as writer:\n",
    "    print(\"Writting to an Excel file\")\n",
    "    merged.to_excel(writer, sheet_name=\"Raw data\", index=False)\n",
    "    format_sheet(writer, \"Raw data\", merged)\n",
    "    print(\"File fully exported\")"
   ]
  }
 ],
 "metadata": {
  "kernelspec": {
   "display_name": "Python 3 (ipykernel)",
   "language": "python",
   "name": "python3"
  },
  "language_info": {
   "codemirror_mode": {
    "name": "ipython",
    "version": 3
   },
   "file_extension": ".py",
   "mimetype": "text/x-python",
   "name": "python",
   "nbconvert_exporter": "python",
   "pygments_lexer": "ipython3",
   "version": "3.10.12"
  }
 },
 "nbformat": 4,
 "nbformat_minor": 5
}
