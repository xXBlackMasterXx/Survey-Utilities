{
 "cells": [
  {
   "cell_type": "code",
   "execution_count": 32,
   "id": "4c4f68d3-f024-43ca-b339-c36a1f8de909",
   "metadata": {},
   "outputs": [
    {
     "data": {
      "text/plain": [
       "True"
      ]
     },
     "execution_count": 32,
     "metadata": {},
     "output_type": "execute_result"
    }
   ],
   "source": [
    "import pandas as pd\n",
    "import numpy as np\n",
    "import os\n",
    "\n",
    "from utils.utils import sign_in_manager\n",
    "from utils.utils import get_survey_list\n",
    "\n",
    "from dotenv import load_dotenv\n",
    "\n",
    "load_dotenv()"
   ]
  },
  {
   "cell_type": "code",
   "execution_count": 33,
   "id": "a33b9f15-2e39-4678-897a-4513eb0df2e6",
   "metadata": {},
   "outputs": [],
   "source": [
    "from selenium import webdriver\n",
    "from selenium.webdriver.common.keys import Keys\n",
    "from selenium.webdriver.common.by import By\n",
    "from selenium.webdriver.support.select import Select\n",
    "from selenium.webdriver.support.wait import WebDriverWait\n",
    "from selenium.webdriver.support import expected_conditions as EC\n",
    "\n",
    "import re"
   ]
  },
  {
   "cell_type": "code",
   "execution_count": 3,
   "id": "f048a94d-53e7-47c5-ad71-697572a16fef",
   "metadata": {},
   "outputs": [
    {
     "ename": "NameError",
     "evalue": "name 'driver' is not defined",
     "output_type": "error",
     "traceback": [
      "\u001b[0;31m---------------------------------------------------------------------------\u001b[0m",
      "\u001b[0;31mNameError\u001b[0m                                 Traceback (most recent call last)",
      "Cell \u001b[0;32mIn[3], line 1\u001b[0m\n\u001b[0;32m----> 1\u001b[0m \u001b[43mdriver\u001b[49m\u001b[38;5;241m.\u001b[39mquit()\n",
      "\u001b[0;31mNameError\u001b[0m: name 'driver' is not defined"
     ]
    }
   ],
   "source": [
    "driver.quit()"
   ]
  },
  {
   "cell_type": "code",
   "execution_count": 34,
   "id": "582bda29-f402-420a-95c7-495506d6b754",
   "metadata": {},
   "outputs": [],
   "source": [
    "options = webdriver.EdgeOptions()\n",
    "options.add_argument(\"--start-maximized\")\n",
    "driver = webdriver.Remote(command_executor = os.environ[\"REMOTE_SERVER\"], options = options)"
   ]
  },
  {
   "cell_type": "code",
   "execution_count": 35,
   "id": "b70c9ada-999a-4d7e-aee4-d4aa69be6d72",
   "metadata": {},
   "outputs": [],
   "source": [
    "sign_in_manager(driver, os.environ[\"SYNO_EMAIL\"], os.environ[\"SYNO_PASSWORD\"])"
   ]
  },
  {
   "cell_type": "code",
   "execution_count": 36,
   "id": "37208759-a96f-4aa0-af26-909e34e36cd5",
   "metadata": {},
   "outputs": [
    {
     "data": {
      "text/plain": [
       "['https://manager.synoint.com/en/distribution/panel/sample/3133/details',\n",
       " 'https://manager.synoint.com/en/distribution/panel/sample/2045/details',\n",
       " 'https://manager.synoint.com/en/distribution/panel/sample/1885/details']"
      ]
     },
     "execution_count": 36,
     "metadata": {},
     "output_type": "execute_result"
    }
   ],
   "source": [
    "def get_distribution_list(driver : webdriver, project_id : int):\n",
    "    # Go to the project\n",
    "    driver.get(f\"https://manager.synoint.com/en/projects/{project_id}\")\n",
    "\n",
    "    # Wait until survey list loader is out\n",
    "    element = WebDriverWait(driver, 10).until_not(EC.presence_of_element_located((By.CSS_SELECTOR, \"td.dataTables_empty\")))\n",
    "\n",
    "    # Read the distribution project links for the project id\n",
    "    distribution_list = [a.get_attribute(\"href\") for a in driver.find_elements(By.CSS_SELECTOR, \"#distributions__list > tbody > tr > td:nth-child(1) > a[href]\")]\n",
    "    \n",
    "    return distribution_list\n",
    "\n",
    "d_list = get_distribution_list(driver, 4087)\n",
    "d_list"
   ]
  },
  {
   "cell_type": "code",
   "execution_count": 37,
   "id": "4f24e4a7-34eb-4f21-9f73-159b7bb71c34",
   "metadata": {},
   "outputs": [
    {
     "data": {
      "text/html": [
       "<div>\n",
       "<style scoped>\n",
       "    .dataframe tbody tr th:only-of-type {\n",
       "        vertical-align: middle;\n",
       "    }\n",
       "\n",
       "    .dataframe tbody tr th {\n",
       "        vertical-align: top;\n",
       "    }\n",
       "\n",
       "    .dataframe thead th {\n",
       "        text-align: right;\n",
       "    }\n",
       "</style>\n",
       "<table border=\"1\" class=\"dataframe\">\n",
       "  <thead>\n",
       "    <tr style=\"text-align: right;\">\n",
       "      <th></th>\n",
       "      <th>GUID</th>\n",
       "      <th>Status</th>\n",
       "      <th>Provider status</th>\n",
       "      <th>Type</th>\n",
       "      <th>Target group</th>\n",
       "      <th>Provider</th>\n",
       "      <th>Started</th>\n",
       "      <th>Status updated</th>\n",
       "      <th>Unnamed: 8</th>\n",
       "    </tr>\n",
       "  </thead>\n",
       "  <tbody>\n",
       "  </tbody>\n",
       "</table>\n",
       "</div>"
      ],
      "text/plain": [
       "Empty DataFrame\n",
       "Columns: [GUID, Status, Provider status, Type, Target group, Provider, Started, Status updated, Unnamed: 8]\n",
       "Index: []"
      ]
     },
     "execution_count": 37,
     "metadata": {},
     "output_type": "execute_result"
    }
   ],
   "source": [
    "def get_distribution_background(driver : webdriver, distribution_id : int):\n",
    "    # Go to the distribution project\n",
    "    driver.get(distribution_id)\n",
    "    \n",
    "    # Open the Respondents tab\n",
    "    driver.find_element(By.CSS_SELECTOR, \"a[href='#profile1\").click()\n",
    "    \n",
    "    # Get the select element to show 5k rows\n",
    "    select = Select(driver.find_element(By.NAME, \"responses__list_length\"))\n",
    "    select.select_by_value(\"5000\")\n",
    "    \n",
    "    # Get the responses table\n",
    "    responses_table = pd.read_html(driver.find_element(By.ID, \"responses__list\").get_attribute(\"outerHTML\"))[0]\n",
    "    \n",
    "    return responses_table\n",
    "\n",
    "get_distribution_background(driver, d_list[0])"
   ]
  },
  {
   "cell_type": "code",
   "execution_count": 14,
   "id": "c35288df-dfc5-4930-a03a-c30d6fd1f095",
   "metadata": {},
   "outputs": [
    {
     "data": {
      "text/plain": [
       "'Showing 1 to 2,035 of 2,035 entries'"
      ]
     },
     "execution_count": 14,
     "metadata": {},
     "output_type": "execute_result"
    }
   ],
   "source": [
    "responses_info = driver.find_element(By.ID, \"responses__list_info\").text\n",
    "responses_info"
   ]
  },
  {
   "cell_type": "code",
   "execution_count": 10,
   "id": "ad5e179e-f7e4-49e6-ab72-cece6e7bd55b",
   "metadata": {},
   "outputs": [
    {
     "data": {
      "text/html": [
       "<div>\n",
       "<style scoped>\n",
       "    .dataframe tbody tr th:only-of-type {\n",
       "        vertical-align: middle;\n",
       "    }\n",
       "\n",
       "    .dataframe tbody tr th {\n",
       "        vertical-align: top;\n",
       "    }\n",
       "\n",
       "    .dataframe thead th {\n",
       "        text-align: right;\n",
       "    }\n",
       "</style>\n",
       "<table border=\"1\" class=\"dataframe\">\n",
       "  <thead>\n",
       "    <tr style=\"text-align: right;\">\n",
       "      <th></th>\n",
       "      <th>GUID</th>\n",
       "      <th>Status</th>\n",
       "      <th>Provider status</th>\n",
       "      <th>Type</th>\n",
       "      <th>Target group</th>\n",
       "      <th>Provider</th>\n",
       "      <th>Started</th>\n",
       "      <th>Status updated</th>\n",
       "      <th>Unnamed: 8</th>\n",
       "    </tr>\n",
       "  </thead>\n",
       "  <tbody>\n",
       "    <tr>\n",
       "      <th>0</th>\n",
       "      <td>0e28e3de-8882-75f0-0602-d70374088140</td>\n",
       "      <td>Complete</td>\n",
       "      <td>Complete</td>\n",
       "      <td>live</td>\n",
       "      <td>Females 16-24 Finland</td>\n",
       "      <td>Cint</td>\n",
       "      <td>2023-12-26 13:33:45</td>\n",
       "      <td>2023-12-28 05:38:24</td>\n",
       "      <td>NaN</td>\n",
       "    </tr>\n",
       "    <tr>\n",
       "      <th>1</th>\n",
       "      <td>f09e3b2f-1d9c-3769-b0f3-0fb52490d6bb</td>\n",
       "      <td>Complete</td>\n",
       "      <td>Complete</td>\n",
       "      <td>live</td>\n",
       "      <td>Females 16-24 Finland</td>\n",
       "      <td>Cint</td>\n",
       "      <td>2023-12-26 13:07:33</td>\n",
       "      <td>2023-12-28 05:38:24</td>\n",
       "      <td>NaN</td>\n",
       "    </tr>\n",
       "    <tr>\n",
       "      <th>2</th>\n",
       "      <td>e6f20d51-171b-39a0-db8d-39d99fefe2cc</td>\n",
       "      <td>Complete</td>\n",
       "      <td>Complete</td>\n",
       "      <td>live</td>\n",
       "      <td>Females 16-24 Finland</td>\n",
       "      <td>Cint</td>\n",
       "      <td>2023-12-26 12:31:41</td>\n",
       "      <td>2023-12-28 05:38:24</td>\n",
       "      <td>NaN</td>\n",
       "    </tr>\n",
       "    <tr>\n",
       "      <th>3</th>\n",
       "      <td>1057012b-075a-30a4-7ef7-357c0b10ecbd</td>\n",
       "      <td>Complete</td>\n",
       "      <td>Complete</td>\n",
       "      <td>live</td>\n",
       "      <td>Females 16-24 Finland</td>\n",
       "      <td>Cint</td>\n",
       "      <td>2023-12-26 12:30:40</td>\n",
       "      <td>2023-12-28 05:38:24</td>\n",
       "      <td>NaN</td>\n",
       "    </tr>\n",
       "    <tr>\n",
       "      <th>4</th>\n",
       "      <td>de18fc99-3306-cd6d-3145-c833484cc90c</td>\n",
       "      <td>TimedOut</td>\n",
       "      <td>TimedOut</td>\n",
       "      <td>live</td>\n",
       "      <td>Females 16-24 Finland</td>\n",
       "      <td>Cint</td>\n",
       "      <td>2023-12-26 12:30:39</td>\n",
       "      <td>2023-12-28 05:38:24</td>\n",
       "      <td>NaN</td>\n",
       "    </tr>\n",
       "    <tr>\n",
       "      <th>...</th>\n",
       "      <td>...</td>\n",
       "      <td>...</td>\n",
       "      <td>...</td>\n",
       "      <td>...</td>\n",
       "      <td>...</td>\n",
       "      <td>...</td>\n",
       "      <td>...</td>\n",
       "      <td>...</td>\n",
       "      <td>...</td>\n",
       "    </tr>\n",
       "    <tr>\n",
       "      <th>2030</th>\n",
       "      <td>97881315-2f4f-7057-a9cd-27a359d026db</td>\n",
       "      <td>Screenout</td>\n",
       "      <td>Screenout</td>\n",
       "      <td>live</td>\n",
       "      <td>Finland nat-rep 16-65 Triaba Finland</td>\n",
       "      <td>Cint</td>\n",
       "      <td>2023-12-12 17:05:35</td>\n",
       "      <td>2023-12-12 17:15:15</td>\n",
       "      <td>NaN</td>\n",
       "    </tr>\n",
       "    <tr>\n",
       "      <th>2031</th>\n",
       "      <td>5171b0461642b11a24e9ea97b23d741ad31e0dd9</td>\n",
       "      <td>Screenout</td>\n",
       "      <td>Screenout</td>\n",
       "      <td>live</td>\n",
       "      <td>Sweden nat-rep 16-65 cheapest CPI</td>\n",
       "      <td>Syno</td>\n",
       "      <td>2023-12-12 17:05:31</td>\n",
       "      <td>2023-12-12 20:21:25</td>\n",
       "      <td>NaN</td>\n",
       "    </tr>\n",
       "    <tr>\n",
       "      <th>2032</th>\n",
       "      <td>testa179f48f85c893a79673df6022cc46ada45a</td>\n",
       "      <td>TimedOut</td>\n",
       "      <td>TimedOut</td>\n",
       "      <td>test</td>\n",
       "      <td>Sweden nat-rep 16-65 cheapest CPI</td>\n",
       "      <td>Syno</td>\n",
       "      <td>2023-12-12 17:04:06</td>\n",
       "      <td>2023-12-12 18:10:13</td>\n",
       "      <td>NaN</td>\n",
       "    </tr>\n",
       "    <tr>\n",
       "      <th>2033</th>\n",
       "      <td>test40a086d9b69e45552bcc050dc4e7eecae27f</td>\n",
       "      <td>TimedOut</td>\n",
       "      <td>TimedOut</td>\n",
       "      <td>test</td>\n",
       "      <td>Norway nat-rep 16-65 cheapest CPI</td>\n",
       "      <td>Syno</td>\n",
       "      <td>2023-12-12 17:00:03</td>\n",
       "      <td>2023-12-12 18:05:15</td>\n",
       "      <td>NaN</td>\n",
       "    </tr>\n",
       "    <tr>\n",
       "      <th>2034</th>\n",
       "      <td>test80277c50777a5fb2db2f927b247b7872</td>\n",
       "      <td>Complete</td>\n",
       "      <td>Complete</td>\n",
       "      <td>test</td>\n",
       "      <td>Finland nat-rep 16-65 Triaba Finland</td>\n",
       "      <td>Cint</td>\n",
       "      <td>2023-12-12 16:51:18</td>\n",
       "      <td>2023-12-12 16:56:11</td>\n",
       "      <td>NaN</td>\n",
       "    </tr>\n",
       "  </tbody>\n",
       "</table>\n",
       "<p>2035 rows × 9 columns</p>\n",
       "</div>"
      ],
      "text/plain": [
       "                                          GUID     Status Provider status  \\\n",
       "0         0e28e3de-8882-75f0-0602-d70374088140   Complete        Complete   \n",
       "1         f09e3b2f-1d9c-3769-b0f3-0fb52490d6bb   Complete        Complete   \n",
       "2         e6f20d51-171b-39a0-db8d-39d99fefe2cc   Complete        Complete   \n",
       "3         1057012b-075a-30a4-7ef7-357c0b10ecbd   Complete        Complete   \n",
       "4         de18fc99-3306-cd6d-3145-c833484cc90c   TimedOut        TimedOut   \n",
       "...                                        ...        ...             ...   \n",
       "2030      97881315-2f4f-7057-a9cd-27a359d026db  Screenout       Screenout   \n",
       "2031  5171b0461642b11a24e9ea97b23d741ad31e0dd9  Screenout       Screenout   \n",
       "2032  testa179f48f85c893a79673df6022cc46ada45a   TimedOut        TimedOut   \n",
       "2033  test40a086d9b69e45552bcc050dc4e7eecae27f   TimedOut        TimedOut   \n",
       "2034      test80277c50777a5fb2db2f927b247b7872   Complete        Complete   \n",
       "\n",
       "      Type                          Target group Provider  \\\n",
       "0     live                 Females 16-24 Finland     Cint   \n",
       "1     live                 Females 16-24 Finland     Cint   \n",
       "2     live                 Females 16-24 Finland     Cint   \n",
       "3     live                 Females 16-24 Finland     Cint   \n",
       "4     live                 Females 16-24 Finland     Cint   \n",
       "...    ...                                   ...      ...   \n",
       "2030  live  Finland nat-rep 16-65 Triaba Finland     Cint   \n",
       "2031  live     Sweden nat-rep 16-65 cheapest CPI     Syno   \n",
       "2032  test     Sweden nat-rep 16-65 cheapest CPI     Syno   \n",
       "2033  test     Norway nat-rep 16-65 cheapest CPI     Syno   \n",
       "2034  test  Finland nat-rep 16-65 Triaba Finland     Cint   \n",
       "\n",
       "                  Started       Status updated  Unnamed: 8  \n",
       "0     2023-12-26 13:33:45  2023-12-28 05:38:24         NaN  \n",
       "1     2023-12-26 13:07:33  2023-12-28 05:38:24         NaN  \n",
       "2     2023-12-26 12:31:41  2023-12-28 05:38:24         NaN  \n",
       "3     2023-12-26 12:30:40  2023-12-28 05:38:24         NaN  \n",
       "4     2023-12-26 12:30:39  2023-12-28 05:38:24         NaN  \n",
       "...                   ...                  ...         ...  \n",
       "2030  2023-12-12 17:05:35  2023-12-12 17:15:15         NaN  \n",
       "2031  2023-12-12 17:05:31  2023-12-12 20:21:25         NaN  \n",
       "2032  2023-12-12 17:04:06  2023-12-12 18:10:13         NaN  \n",
       "2033  2023-12-12 17:00:03  2023-12-12 18:05:15         NaN  \n",
       "2034  2023-12-12 16:51:18  2023-12-12 16:56:11         NaN  \n",
       "\n",
       "[2035 rows x 9 columns]"
      ]
     },
     "execution_count": 10,
     "metadata": {},
     "output_type": "execute_result"
    }
   ],
   "source": [
    "# Get the responses table\n",
    "responses_table = pd.read_html(driver.find_element(By.ID, \"responses__list\").get_attribute(\"outerHTML\"))[0]\n",
    "\n",
    "responses_table"
   ]
  }
 ],
 "metadata": {
  "kernelspec": {
   "display_name": "Python 3 (ipykernel)",
   "language": "python",
   "name": "python3"
  },
  "language_info": {
   "codemirror_mode": {
    "name": "ipython",
    "version": 3
   },
   "file_extension": ".py",
   "mimetype": "text/x-python",
   "name": "python",
   "nbconvert_exporter": "python",
   "pygments_lexer": "ipython3",
   "version": "3.10.12"
  }
 },
 "nbformat": 4,
 "nbformat_minor": 5
}
