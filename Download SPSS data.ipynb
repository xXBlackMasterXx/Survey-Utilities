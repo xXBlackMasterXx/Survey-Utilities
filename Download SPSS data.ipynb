{
 "cells": [
  {
   "cell_type": "code",
   "execution_count": 1,
   "id": "e3426f8d-4778-4ca2-858e-a0b8b3ea7527",
   "metadata": {},
   "outputs": [
    {
     "data": {
      "text/plain": [
       "True"
      ]
     },
     "execution_count": 1,
     "metadata": {},
     "output_type": "execute_result"
    }
   ],
   "source": [
    "from selenium import webdriver\n",
    "from selenium.webdriver.common.keys import Keys\n",
    "from selenium.webdriver.common.by import By\n",
    "from selenium.webdriver.support.wait import WebDriverWait\n",
    "from selenium.webdriver.support import expected_conditions as EC\n",
    "\n",
    "import pandas as pd\n",
    "import numpy as np\n",
    "import pyreadstat\n",
    "\n",
    "import requests\n",
    "import time\n",
    "import wget\n",
    "import os\n",
    "\n",
    "# Import utils\n",
    "from utils.utils import sign_in_manager\n",
    "from utils.utils import get_survey_list\n",
    "from utils.utils import generate_spss_data\n",
    "from utils.utils import download_raw_data\n",
    "\n",
    "from dotenv import load_dotenv\n",
    "load_dotenv()"
   ]
  },
  {
   "cell_type": "code",
   "execution_count": 4,
   "id": "17a86f9b-8f72-4ea2-8a12-94fc9ecd8ace",
   "metadata": {},
   "outputs": [],
   "source": [
    "project_id = 4744"
   ]
  },
  {
   "cell_type": "code",
   "execution_count": 7,
   "id": "76f81923-c801-40e2-a960-a836251f3967",
   "metadata": {},
   "outputs": [
    {
     "name": "stdout",
     "output_type": "stream",
     "text": [
      "Generating report for 797946\n",
      "Error token found!\t Resubmitting form again\n",
      "Report for survey 797946 is being generated\n",
      "Downloading raw data for 797946\n",
      "Reports is still being generated, trying again...\n",
      "Reports is still being generated, trying again...\n",
      "Reports is still being generated, trying again...\n",
      "100% [........................................................................] 27574579 / 27574579File data//Raw Data 797946 2024-03-13.sav was downloaded\n",
      "Quitting webdriver session\n"
     ]
    }
   ],
   "source": [
    "files = os.listdir(os.environ[\"DATA_DIR\"])\n",
    "for file in files:\n",
    "    if os.path.isfile(os.environ[\"DATA_DIR\"] + file):\n",
    "        print(f\"Removing file {os.environ['DATA_DIR'] + file}\")\n",
    "        os.remove(os.environ[\"DATA_DIR\"] + file)\n",
    "\n",
    "try:\n",
    "    # Connect to the remote webdriver\n",
    "    options = webdriver.EdgeOptions()\n",
    "    options.headless = True\n",
    "    # driver = webdriver.Edge(\"C:\\Program Files\\edgedriver_win64\\msedgedriver.exe\")\n",
    "    driver = webdriver.Remote(command_executor = os.environ[\"REMOTE_SERVER\"], options = options)\n",
    "\n",
    "    sign_in_manager(driver, os.environ[\"SYNO_EMAIL\"], os.environ[\"SYNO_PASSWORD\"])\n",
    "    survey_list = get_survey_list(driver, project_id)\n",
    "\n",
    "    # Generate and download the raw data for all surveys in project_id\n",
    "    for survey_id in survey_list[\"Id\"]:\n",
    "        print(f\"Generating report for {survey_id}\")\n",
    "        generate_spss_data(driver, survey_id)\n",
    "\n",
    "    for survey_id in survey_list[\"Id\"]:\n",
    "        print(f\"Downloading raw data for {survey_id}\")\n",
    "        download_raw_data(driver, survey_id)\n",
    "except Exception as e:\n",
    "    print(f\"Exception in webdriver: {e}\")\n",
    "finally:\n",
    "    print(\"Quitting webdriver session\")\n",
    "    driver.quit()"
   ]
  },
  {
   "cell_type": "code",
   "execution_count": 8,
   "id": "0a509d48-8c00-4235-89c7-3a974ea91924",
   "metadata": {},
   "outputs": [],
   "source": [
    "!pip freeze > requirements.txt"
   ]
  }
 ],
 "metadata": {
  "kernelspec": {
   "display_name": "Python 3 (ipykernel)",
   "language": "python",
   "name": "python3"
  },
  "language_info": {
   "codemirror_mode": {
    "name": "ipython",
    "version": 3
   },
   "file_extension": ".py",
   "mimetype": "text/x-python",
   "name": "python",
   "nbconvert_exporter": "python",
   "pygments_lexer": "ipython3",
   "version": "3.10.12"
  }
 },
 "nbformat": 4,
 "nbformat_minor": 5
}
